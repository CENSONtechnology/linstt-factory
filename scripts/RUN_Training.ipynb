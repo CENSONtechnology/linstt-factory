{
 "cells": [
  {
   "cell_type": "code",
   "execution_count": 6,
   "metadata": {},
   "outputs": [],
   "source": [
    ". path.sh\n",
    ". cmd.sh"
   ]
  },
  {
   "cell_type": "markdown",
   "metadata": {},
   "source": [
    "# Train ESTER1 Database\n",
    "- Prepare Input data for kaldi\n",
    "-"
   ]
  },
  {
   "cell_type": "markdown",
   "metadata": {},
   "source": [
    "# Train ESTER1 Phase 1"
   ]
  },
  {
   "cell_type": "code",
   "execution_count": 7,
   "metadata": {
    "scrolled": false
   },
   "outputs": [
    {
     "name": "stdout",
     "output_type": "stream",
     "text": [
      "utils/data/get_utt2dur.sh: working out /opt/lvcsrPlatform/training/AM/AM0=ESTER1_Phase1/data/utt2dur from /opt/lvcsrPlatform/training/AM/AM0=ESTER1_Phase1/data/segments\n",
      "utils/data/get_utt2dur.sh: computed /opt/lvcsrPlatform/training/AM/AM0=ESTER1_Phase1/data/utt2dur\n",
      "utils/validate_data_dir.sh: Successfully validated data-directory /opt/lvcsrPlatform/training/AM/AM0=ESTER1_Phase1/data\n",
      "Successfully prepared data in /opt/lvcsrPlatform/training/AM/AM0=ESTER1_Phase1/data..\n"
     ]
    }
   ],
   "source": [
    "data_ESTER_Phase1=$lvcsrRootDir/database/Corpus/ESTER/DGA/Phase1/data\n",
    "exp_ESTER_Phase1=$lvcsrRootDir/training/AM/AM0=ESTER1_Phase1\n",
    "\n",
    "local/data_prepESTER.sh $data_ESTER_Phase1 $exp_ESTER_Phase1/data"
   ]
  }
 ],
 "metadata": {
  "kernelspec": {
   "display_name": "Bash",
   "language": "bash",
   "name": "bash"
  },
  "language_info": {
   "codemirror_mode": "shell",
   "file_extension": ".sh",
   "mimetype": "text/x-sh",
   "name": "bash"
  }
 },
 "nbformat": 4,
 "nbformat_minor": 2
}
